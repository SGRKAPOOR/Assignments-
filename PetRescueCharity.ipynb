{
 "cells": [
  {
   "cell_type": "code",
   "execution_count": 1,
   "id": "3b50394a",
   "metadata": {},
   "outputs": [
    {
     "name": "stdout",
     "output_type": "stream",
     "text": [
      "Requirement already satisfied: pyodbc in c:\\users\\sgrka\\anaconda3\\lib\\site-packages (4.0.34)\n",
      "Note: you may need to restart the kernel to use updated packages.\n"
     ]
    }
   ],
   "source": [
    "pip install pyodbc"
   ]
  },
  {
   "cell_type": "code",
   "execution_count": 3,
   "id": "d4b5bd66",
   "metadata": {},
   "outputs": [
    {
     "name": "stdout",
     "output_type": "stream",
     "text": [
      "Enter the path to the CSV file (or 'q' to quit): \"C:\\Users\\sgrka\\Downloads\\Joaquin.csv\"\n",
      "Data from C:\\Users\\sgrka\\Downloads\\Joaquin.csv has been successfully loaded into the database.\n",
      "Enter the path to the CSV file (or 'q' to quit): \"C:\\Users\\sgrka\\Downloads\\Sagar.csv\"\n",
      "Data from C:\\Users\\sgrka\\Downloads\\Sagar.csv has been successfully loaded into the database.\n",
      "Enter the path to the CSV file (or 'q' to quit): \"C:\\Users\\sgrka\\Downloads\\Anmol.csv\"\n",
      "Data from C:\\Users\\sgrka\\Downloads\\Anmol.csv has been successfully loaded into the database.\n",
      "Enter the path to the CSV file (or 'q' to quit): \"C:\\Users\\sgrka\\Downloads\\Maleek.csv\"\n",
      "Data from C:\\Users\\sgrka\\Downloads\\Maleek.csv has been successfully loaded into the database.\n",
      "Enter the path to the CSV file (or 'q' to quit): \"C:\\Users\\sgrka\\Downloads\\Loan.csv\"\n",
      "Data from C:\\Users\\sgrka\\Downloads\\Loan.csv has been successfully loaded into the database.\n",
      "Enter the path to the CSV file (or 'q' to quit): \"C:\\Users\\sgrka\\Downloads\\Divya.csv\"\n",
      "Data from C:\\Users\\sgrka\\Downloads\\Divya.csv has been successfully loaded into the database.\n",
      "Enter the path to the CSV file (or 'q' to quit): q\n",
      "Database connection closed.\n"
     ]
    }
   ],
   "source": [
    "import csv\n",
    "import pyodbc\n",
    "import os\n",
    "from datetime import datetime\n",
    "\n",
    "def connect_to_db():\n",
    "    conn = pyodbc.connect('DRIVER=ODBC Driver 17 for SQL Server;SERVER=Sagar\\HUMBER_DB;DATABASE=PetRescueCharity;Trusted_Connection=yes;')\n",
    "    return conn\n",
    "\n",
    "def insert_address(cursor, address_data):\n",
    "    cursor.execute(\"\"\"\n",
    "    INSERT INTO Address (unit_num, street_number, street_name, street_type, street_direction, postal_code, city, province)\n",
    "    VALUES (?, ?, ?, ?, ?, ?, ?, ?)\n",
    "    \"\"\", address_data)\n",
    "    return cursor.execute(\"SELECT @@IDENTITY AS ID\").fetchone()[0]\n",
    "\n",
    "def insert_volunteer(cursor, volunteer_data):\n",
    "    cursor.execute(\"\"\"\n",
    "    INSERT INTO Volunteer (first_name, last_name, group_leader)\n",
    "    VALUES (?, ?, ?)\n",
    "    \"\"\", volunteer_data)\n",
    "    return cursor.execute(\"SELECT @@IDENTITY AS ID\").fetchone()[0]\n",
    "\n",
    "def insert_donation(cursor, donation_data):\n",
    "    cursor.execute(\"\"\"\n",
    "    INSERT INTO Donation (donor_first_name, donor_last_name, donation_date, donation_amount, payment_method, address_id, volunteer_id)\n",
    "    VALUES (?, ?, ?, ?, ?, ?, ?)\n",
    "    \"\"\", donation_data)\n",
    "\n",
    "from datetime import datetime\n",
    "\n",
    "def process_csv(file_path, cursor):\n",
    "    with open(file_path, 'r') as csvfile:\n",
    "        csvreader = csv.reader(csvfile)\n",
    "        next(csvreader)  # Skip header row\n",
    "        for row in csvreader:\n",
    "            address_data = (row[5], row[6], row[7], row[8], row[9], row[10], row[11], row[12])\n",
    "            address_id = insert_address(cursor, address_data)\n",
    "\n",
    "            volunteer_data = (row[13], row[14], row[15].upper() == 'TRUE')\n",
    "            volunteer_id = insert_volunteer(cursor, volunteer_data)\n",
    "\n",
    "            # Try both date formats\n",
    "            try:\n",
    "                donation_date = datetime.strptime(row[2], '%m/%d/%Y').strftime('%Y-%m-%d')\n",
    "            except ValueError:\n",
    "                try:\n",
    "                    donation_date = datetime.strptime(row[2], '%Y-%m-%d').strftime('%Y-%m-%d')\n",
    "                except ValueError:\n",
    "                    print(f\"Unable to parse date: {row[2]}. Skipping this row.\")\n",
    "                    continue\n",
    "\n",
    "            donation_data = (row[0], row[1], donation_date, float(row[3]), row[4], address_id, volunteer_id)\n",
    "            insert_donation(cursor, donation_data)\n",
    "            \n",
    "def main():\n",
    "    conn = connect_to_db()\n",
    "    cursor = conn.cursor()\n",
    "\n",
    "    while True:\n",
    "        file_path = input(\"Enter the path to the CSV file (or 'q' to quit): \")\n",
    "        if file_path.lower() == 'q':\n",
    "            break\n",
    "          # Remove any surrounding quotes from the file path\n",
    "        file_path = file_path.strip('\"').strip(\"'\")\n",
    "        if not os.path.exists(file_path):\n",
    "            print(\"File not found. Please enter a valid file path.\")\n",
    "            continue\n",
    "\n",
    "        try:\n",
    "            process_csv(file_path, cursor)\n",
    "            conn.commit()\n",
    "            print(f\"Data from {file_path} has been successfully loaded into the database.\")\n",
    "        except Exception as e:\n",
    "            conn.rollback()\n",
    "            print(f\"An error occurred while processing {file_path}: {str(e)}\")\n",
    "\n",
    "    conn.close()\n",
    "    print(\"Database connection closed.\")\n",
    "\n",
    "if __name__ == \"__main__\":\n",
    "    main()"
   ]
  },
  {
   "cell_type": "code",
   "execution_count": null,
   "id": "dee14376",
   "metadata": {},
   "outputs": [],
   "source": []
  }
 ],
 "metadata": {
  "kernelspec": {
   "display_name": "Python 3 (ipykernel)",
   "language": "python",
   "name": "python3"
  },
  "language_info": {
   "codemirror_mode": {
    "name": "ipython",
    "version": 3
   },
   "file_extension": ".py",
   "mimetype": "text/x-python",
   "name": "python",
   "nbconvert_exporter": "python",
   "pygments_lexer": "ipython3",
   "version": "3.9.13"
  }
 },
 "nbformat": 4,
 "nbformat_minor": 5
}
